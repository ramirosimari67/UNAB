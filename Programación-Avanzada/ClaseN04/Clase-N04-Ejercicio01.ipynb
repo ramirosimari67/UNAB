{
 "cells": [
  {
   "cell_type": "markdown",
   "metadata": {},
   "source": [
    "a. Dado el siguiente codigo indique cuales son los parametros reales y los formales:\n"
   ]
  },
  {
   "cell_type": "code",
   "execution_count": null,
   "metadata": {},
   "outputs": [],
   "source": [
    "# Definicion de funciones\n",
    "\n",
    "def sumaAlcuadrado(x, y):\n",
    "    rta = float(x)**2 + 2*float(x)*float(y) + float(y)**2\n",
    "    return rta\n",
    "\n",
    "#Programa principal\n",
    "print(\"Bienvenidos/as a la Suma al Cuadrado\")\n",
    "a = input(\"Ingrese el valor de a.\")\n",
    "b = input(\"Ingrese el valor de b.\")\n",
    "print(sumaAlcuadrado(a,b))"
   ]
  },
  {
   "cell_type": "markdown",
   "metadata": {},
   "source": [
    "b. Mencione los errores en los siguientes codigos. Justifique:"
   ]
  },
  {
   "cell_type": "code",
   "execution_count": 11,
   "metadata": {},
   "outputs": [],
   "source": [
    "# a)\n",
    "def suma(par1, par2):\n",
    "    print(par1 + par2)\n",
    "    suma()\n",
    "    \n",
    "# El error de este codigo es que la funcion suma() no proporciona ningun argemento."
   ]
  },
  {
   "cell_type": "code",
   "execution_count": 12,
   "metadata": {},
   "outputs": [
    {
     "name": "stdout",
     "output_type": "stream",
     "text": [
      "22\n"
     ]
    }
   ],
   "source": [
    "# b)\n",
    "def suma(par1, par2):\n",
    "    #print(par1 + par2)\n",
    "    return par1  + par2\n",
    "\n",
    "print(suma(12, 10))\n",
    "\n",
    "# El error es que se esta intentando imprimir lo que devuelve la funcion de suma pero como no hay un retorno el valor impreso sera none."
   ]
  },
  {
   "cell_type": "code",
   "execution_count": 13,
   "metadata": {},
   "outputs": [
    {
     "data": {
      "text/plain": [
       "22"
      ]
     },
     "execution_count": 13,
     "metadata": {},
     "output_type": "execute_result"
    }
   ],
   "source": [
    "# c)\n",
    "def suma(par1, par2):\n",
    "    return (par1 + par2)\n",
    "#suma(12, 10)\n",
    "print(suma(12, 10))\n",
    "\n",
    "# Falta la funcion para imprimir el resultado en consola"
   ]
  }
 ],
 "metadata": {
  "kernelspec": {
   "display_name": "Python 3",
   "language": "python",
   "name": "python3"
  },
  "language_info": {
   "codemirror_mode": {
    "name": "ipython",
    "version": 3
   },
   "file_extension": ".py",
   "mimetype": "text/x-python",
   "name": "python",
   "nbconvert_exporter": "python",
   "pygments_lexer": "ipython3",
   "version": "3.11.9"
  }
 },
 "nbformat": 4,
 "nbformat_minor": 2
}
