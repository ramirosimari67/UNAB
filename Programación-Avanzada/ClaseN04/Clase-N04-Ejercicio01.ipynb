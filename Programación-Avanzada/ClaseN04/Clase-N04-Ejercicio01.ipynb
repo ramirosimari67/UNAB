{
 "cells": [
  {
   "cell_type": "markdown",
   "metadata": {},
   "source": [
    "a. Dado el siguiente codigo indique cuales son los parametros reales y los formales:\n"
   ]
  },
  {
   "cell_type": "code",
   "execution_count": null,
   "metadata": {},
   "outputs": [],
   "source": [
    "# Definicion de funciones\n",
    "\n",
    "def sumaAlcuadrado(x, y):\n",
    "    rta = float(x)**2 + 2*float(x)*float(y) + float(y)**2\n",
    "    return rta\n",
    "\n",
    "#Programa principal\n",
    "print(\"Bienvenidos/as a la Suma al Cuadrado\")\n",
    "a = input(\"Ingrese el valor de a.\")\n",
    "b = input(\"Ingrese el valor de b.\")\n",
    "print(sumaAlcuadrado(a,b))"
   ]
  },
  {
   "cell_type": "markdown",
   "metadata": {},
   "source": [
    "b. Mencione los errores en los siguientes codigos. Justifique:"
   ]
  },
  {
   "cell_type": "code",
   "execution_count": 11,
   "metadata": {},
   "outputs": [
    {
     "name": "stdout",
     "output_type": "stream",
     "text": [
      "20\n"
     ]
    }
   ],
   "source": [
    "# a)\n",
    "def suma(par1, par2):\n",
    "    print(par1 + par2)\n",
    "suma()\n",
    "\n",
    "# El error de este codigo es que la funcion suma() no proporciona ningun argemento."
   ]
  },
  {
   "cell_type": "code",
   "execution_count": 13,
   "metadata": {},
   "outputs": [
    {
     "name": "stdout",
     "output_type": "stream",
     "text": [
      "22\n",
      "None\n"
     ]
    }
   ],
   "source": [
    "# b)\n",
    "def suma(par1, par2):\n",
    "    print(par1 + par2)\n",
    "    #return par1  + par2\n",
    "\n",
    "print(suma(12, 10))\n",
    "\n",
    "# El error es que se esta intentando imprimir lo que devuelve la funcion de suma pero como no hay un retorno el valor impreso sera none."
   ]
  },
  {
   "cell_type": "code",
   "execution_count": 15,
   "metadata": {},
   "outputs": [
    {
     "data": {
      "text/plain": [
       "22"
      ]
     },
     "execution_count": 15,
     "metadata": {},
     "output_type": "execute_result"
    }
   ],
   "source": [
    "# c)\n",
    "def suma(par1, par2):\n",
    "    return (par1 + par2)\n",
    "suma(12, 10)\n",
    "\n",
    "# Falta la funcion para imprimir el resultado en consola"
   ]
  },
  {
   "cell_type": "code",
   "execution_count": 20,
   "metadata": {},
   "outputs": [
    {
     "ename": "IndentationError",
     "evalue": "unindent does not match any outer indentation level (<tokenize>, line 4)",
     "output_type": "error",
     "traceback": [
      "\u001b[1;36m  File \u001b[1;32m<tokenize>:4\u001b[1;36m\u001b[0m\n\u001b[1;33m    suma(12, 10)\u001b[0m\n\u001b[1;37m    ^\u001b[0m\n\u001b[1;31mIndentationError\u001b[0m\u001b[1;31m:\u001b[0m unindent does not match any outer indentation level\n"
     ]
    }
   ],
   "source": [
    "# d)\n",
    "def suma(par1):\n",
    "       return (par1 + 2)\n",
    "    suma(12, 10)\n",
    "\n",
    "# El error es que la funcion suma() recibe solo un argumento, pero luego se intenta llamar con dos argumentos (12 y 10)."
   ]
  }
 ],
 "metadata": {
  "kernelspec": {
   "display_name": "Python 3",
   "language": "python",
   "name": "python3"
  },
  "language_info": {
   "codemirror_mode": {
    "name": "ipython",
    "version": 3
   },
   "file_extension": ".py",
   "mimetype": "text/x-python",
   "name": "python",
   "nbconvert_exporter": "python",
   "pygments_lexer": "ipython3",
   "version": "3.11.9"
  }
 },
 "nbformat": 4,
 "nbformat_minor": 2
}
